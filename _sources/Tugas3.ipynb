{
 "cells": [
  {
   "cell_type": "markdown",
   "metadata": {},
   "source": [
    "# MATRIKS INVERS\n",
    "\n",
    "adalah kebalikan dari suatu matriks. jadi jika dilambangkan suatu matriks adalah matriks A\n",
    " maka kebalikan atau invers dari matriks A\n",
    " adalah matriks A-1\n",
    ". Matriks A-1\n",
    " dapat dikatakan invers dari matriks A\n",
    " jika memenuhi syarat apabila matriks A\n",
    " dikalikan dengan matriks A-1\n",
    " menghasilkan matriks I\n",
    " yang mana matriks I\n",
    " adalah matriks identitas.\n",
    "\n",
    "## Sifat sifat Matriks Invers\n",
    "* Invers dari matriks Invers adalah matriks itu sendiri, contoh invers dari matrik adalah matriks itu sendiri\n",
    "* Perkalian matriks dengan inversnya akan menghasilkan matriks identitas, contoh\n",
    "* Invers dari perkalian dua matriks adalah hasil dari perkalian inversnya dalam urutan terbalik, contoh\n",
    "* Invers dari matriks transpose adalah transpose dari matriks invers, contoh\n",
    "* Invers dari matriks identitas adalah matriks identitas itu sendiri, contoh\n",
    "\n",
    "# Eliminasi Gauss Jordan\n",
    "Eliminasi Gauss adalah suatu cara mengoperasikan nilai-nilai di dalam matriks sehingga menjadi matriks yang lebih sederhana. Metode Eliminasi Gauss adalah salah satu cara yang paling awal dan banyak digunakan dalam penyelesaian sistem persamaan linier. Cara ini ditemukan oleh Carl Friedrich Gauss. Prosedur penyelesaian dari metode ini adalah dengan melakukan operasi baris sehingga matriks tersebut menjadi matriks yang Eselon-baris. Ini dapat digunakan sebagai salah satu metode penyelesaian persamaan linear dengan menggunakan matriks. Caranya dengan mengubah persamaan linear tersebut ke dalam matriks teraugmentasi dan mengoperasikannya. Setelah menjadi matriks Eselon-baris, lakukan substitusi balik untuk mendapatkan nilai dari variabel-variabel terseb\n",
    "\n",
    "# Ciri-ciri eliminasi gaus jordan\n",
    "* Jika suatu baris tidak semua nol, maka bilangan pertama yang tidak nol ada 1(1 utama).\n",
    "* Baris nol terletak paling bawah.\n",
    "* 1 utama baris berikutnya berada dikanan 1 utama baris diatasnya.\n",
    "* Dibawah 1 utama harus nol.\n",
    "\n"
   ]
  },
  {
   "cell_type": "markdown",
   "metadata": {},
   "source": [
    "## Mencari invers dengan eliminasi gaus jordan\n",
    "\n",
    "Dalam penerapan gauss Jordan dengan menggunakan Operasi Baris Elementer atau disebut OBE. Operai OBE terdiri dari 3 cara, yaitu:\n",
    "\n",
    "1. Menambahkan kelipatan baris ke baris yang lain\n",
    "\n",
    "2. mengkalikan baris dengan bilangan selain nol\n",
    "\n",
    "3. Menukarkan posisi baris satu dengan baris yang lain\n",
    "\n",
    "Untuk mencari Invers dari sebuah Matrix kita harus memperhatikan persamaan - persamaannya. Untuk bisa memasukkannya dalam bentuk matrix kita pisah antara koefisien yang ada disebelah ruas kiri dan konstanta yang ada disebelah ruas kanan. contoh saya mempunyai persamaan linier 4 variabel:\n",
    "\n",
    "$$\n",
    "0X_1 + X_2 + 0X_3 + 1X_4  = 5 \\\\\n",
    "\n",
    "X_1 + -3X_2 + 0X_3 + 2X_4  = 8 \\\\\n",
    "\n",
    "1X_1 + -1X_2 + 3X_3 + X_4  = 6 \\\\\n",
    "\n",
    "2X_1 + 4X_2 + 0X_3 + 5X_4  = 7 \\\\\n",
    "$$\n",
    "\n",
    "Lalu kita akan masukkan dalam bentuk matrix:\n",
    "\n",
    "$$\n",
    "\\begin{align} A= \\begin{bmatrix} 0&1&0&1\\\\ 0&-3&0&2\\\\ 1&-1&3&1\\\\ 2&4&0&5\\\\  \\end{bmatrix} x= \\begin{bmatrix} x_1\\\\ x_2\\\\ x_3\\\\ x_4\\\\ \\end{bmatrix} b= \\begin{bmatrix} 5\\\\ 8\\\\ 6\\\\ 7\\\\ \\end{bmatrix} \\end{align}\n",
    "$$\n",
    "\n",
    "$$\n",
    "\\begin{align} I= \\begin{bmatrix} 1&0&0&0\\\\ 0&1&0&0\\\\ 0&0&1&0\\\\ 0&0&0&1\\\\  \\end{bmatrix} \\end{align}\n",
    "$$\n",
    "\n",
    "Setelah itu, kita ubah menjadi augmented matrix yang ditambahkan dengan matriks identitas. Kita lambangkan sebagai matriks AI\n",
    "\n",
    "$$\n",
    "\\begin{align} AI= \\begin{bmatrix} 0&1&0&1&1&0&0&0\\\\ 0&-3&0&2&0&1&0&0\\\\ 1&-1&3&1&0&0&1&0\\\\ 2&4&0&5&0&0&0&1\\\\  \\end{bmatrix} \\end{align}\n",
    "$$"
   ]
  },
  {
   "cell_type": "markdown",
   "metadata": {},
   "source": [
    "## Penyelesaian dengan code\n",
    "\n",
    "Berikut adalah contoh penyelesaian mencari Invers Matrix 4x4 dengan code python"
   ]
  },
  {
   "cell_type": "code",
   "execution_count": 1,
   "metadata": {},
   "outputs": [],
   "source": [
    "# import library numpy\n",
    "import numpy as np\n",
    "\n",
    "def RowSwap(A,k,l):\n",
    "# =============================================================================\n",
    "#     A adalah sebuah NumPy array.  RowSwap akan menghasilkan duplicate dari\n",
    "#     array dengan baris k dan l di tukar\n",
    "# =============================================================================\n",
    "    m = A.shape[0]  # m adalah nomor baris di A\n",
    "    n = A.shape[1]  # n adalah nomor kolom di A\n",
    "\n",
    "    B = np.copy(A).astype('float64')\n",
    "\n",
    "    for j in range(n):\n",
    "        temp = B[k][j]\n",
    "        B[k][j] = B[l][j]\n",
    "        B[l][j] = temp\n",
    "\n",
    "    return B\n",
    "\n",
    "def RowScale(A,k,scale):\n",
    "# =============================================================================\n",
    "#     A adalah sebuah NumPy array.  RowScale akan menghasilkan duplicate dari\n",
    "#     array dengan baris k di kali dengan skalar bukan 0\n",
    "# =============================================================================\n",
    "    m = A.shape[0]  # m adalah nomor baris di A\n",
    "    n = A.shape[1]  # n adalah nomor kolom di A\n",
    "\n",
    "    B = np.copy(A).astype('float64')\n",
    "\n",
    "    for j in range(n):\n",
    "        B[k][j] *= scale\n",
    "\n",
    "    return B\n",
    "\n",
    "def RowAdd(A,k,l,scale):\n",
    "# =============================================================================\n",
    "#     A adalah sebuah NumPy array.  RowAdd akan menghasilkan duplicate dari\n",
    "#     array dengan baris k akan di kali dengan 'scale' bukan 0. lalu nilai\n",
    "#     baris l akan di tambah dengan nilai baris k yang sudah dikalikan\n",
    "# =============================================================================\n",
    "    m = A.shape[0]  # m adalah nomor baris di A\n",
    "    n = A.shape[1]  # n adalah nomor kolom di A\n",
    "\n",
    "    B = np.copy(A).astype('float64')\n",
    "\n",
    "    for j in range(n):\n",
    "        B[l][j] += B[k][j]*scale\n",
    "\n",
    "    return B"
   ]
  },
  {
   "cell_type": "code",
   "execution_count": 2,
   "metadata": {},
   "outputs": [
    {
     "name": "stdout",
     "output_type": "stream",
     "text": [
      "[[ 0  1  0  1  1  0  0  0]\n",
      " [ 0 -3  0  2  0  1  0  0]\n",
      " [ 1 -1  3  1  0  0  1  0]\n",
      " [ 2  4  0  5  0  0  0  1]]\n"
     ]
    }
   ],
   "source": [
    "BI = np.array([[0,1,0,1,1,0,0,0],[0,-3,0,2,0,1,0,0],[1,-1,3,1,0,0,1,0],[2,4,0,5,0,0,0,1]])\n",
    "print(BI)"
   ]
  },
  {
   "cell_type": "code",
   "execution_count": 3,
   "metadata": {},
   "outputs": [
    {
     "name": "stdout",
     "output_type": "stream",
     "text": [
      "[[ 0.  1.  0.  1.  1.  0.  0.  0.]\n",
      " [ 0.  1.  0.  6.  4.  1.  0.  0.]\n",
      " [ 1. -1.  3.  1.  0.  0.  1.  0.]\n",
      " [ 2.  4.  0.  5.  0.  0.  0.  1.]]\n"
     ]
    }
   ],
   "source": [
    "BI1 = RowAdd(BI,0,1,4)\n",
    "print(BI1)"
   ]
  },
  {
   "cell_type": "code",
   "execution_count": 4,
   "metadata": {},
   "outputs": [
    {
     "name": "stdout",
     "output_type": "stream",
     "text": [
      "[[0. 1. 0. 1. 1. 0. 0. 0.]\n",
      " [0. 1. 0. 6. 4. 1. 0. 0.]\n",
      " [1. 1. 3. 3. 2. 0. 1. 0.]\n",
      " [2. 4. 0. 5. 0. 0. 0. 1.]]\n"
     ]
    }
   ],
   "source": [
    "BI2 = RowAdd(BI1,0,2,2)\n",
    "print(BI2)"
   ]
  },
  {
   "cell_type": "code",
   "execution_count": 5,
   "metadata": {},
   "outputs": [
    {
     "name": "stdout",
     "output_type": "stream",
     "text": [
      "[[ 0.  1.  0.  1.  1.  0.  0.  0.]\n",
      " [ 0.  1.  0.  6.  4.  1.  0.  0.]\n",
      " [ 1.  1.  3.  3.  2.  0.  1.  0.]\n",
      " [ 2.  0.  0.  1. -4.  0.  0.  1.]]\n"
     ]
    }
   ],
   "source": [
    "BI3 = RowAdd(BI2,0,3,-4)\n",
    "print(BI3)"
   ]
  },
  {
   "cell_type": "code",
   "execution_count": 6,
   "metadata": {},
   "outputs": [
    {
     "name": "stdout",
     "output_type": "stream",
     "text": [
      "[[ 0.  1.  0.  1.  1.  0.  0.  0.]\n",
      " [ 0.  1.  0.  6.  4.  1.  0.  0.]\n",
      " [ 2.  2.  6.  6.  4.  0.  2.  0.]\n",
      " [ 2.  0.  0.  1. -4.  0.  0.  1.]]\n"
     ]
    }
   ],
   "source": [
    "BI4 = RowScale(BI3,2,2)\n",
    "print(BI4)"
   ]
  },
  {
   "cell_type": "code",
   "execution_count": 7,
   "metadata": {},
   "outputs": [
    {
     "name": "stdout",
     "output_type": "stream",
     "text": [
      "[[ 0.  1.  0.  1.  1.  0.  0.  0.]\n",
      " [ 0.  1.  0.  6.  4.  1.  0.  0.]\n",
      " [-2. -2. -6. -6. -4. -0. -2. -0.]\n",
      " [ 2.  0.  0.  1. -4.  0.  0.  1.]]\n"
     ]
    }
   ],
   "source": [
    "BI5 = RowScale(BI4,2,-1)\n",
    "print(BI5)"
   ]
  },
  {
   "cell_type": "code",
   "execution_count": 8,
   "metadata": {},
   "outputs": [
    {
     "name": "stdout",
     "output_type": "stream",
     "text": [
      "[[ 0.  1.  0.  1.  1.  0.  0.  0.]\n",
      " [ 0.  1.  0.  6.  4.  1.  0.  0.]\n",
      " [-2. -2. -6. -6. -4. -0. -2. -0.]\n",
      " [-2. -0. -0. -1.  4. -0. -0. -1.]]\n"
     ]
    }
   ],
   "source": [
    "BI6 = RowScale(BI5,3,-1)\n",
    "print(BI6)"
   ]
  },
  {
   "cell_type": "code",
   "execution_count": 9,
   "metadata": {},
   "outputs": [
    {
     "name": "stdout",
     "output_type": "stream",
     "text": [
      "[[ 0.  0.  0. -5. -3. -1.  0.  0.]\n",
      " [ 0.  1.  0.  6.  4.  1.  0.  0.]\n",
      " [-2. -2. -6. -6. -4. -0. -2. -0.]\n",
      " [-2. -0. -0. -1.  4. -0. -0. -1.]]\n"
     ]
    }
   ],
   "source": [
    "BI7= RowAdd(BI6,1,0,-1)\n",
    "print(BI7)"
   ]
  },
  {
   "cell_type": "code",
   "execution_count": 10,
   "metadata": {},
   "outputs": [
    {
     "name": "stdout",
     "output_type": "stream",
     "text": [
      "[[  0.   0.   0.  -5.  -3.  -1.   0.   0.]\n",
      " [  0.   1.   0.   6.   4.   1.   0.   0.]\n",
      " [ -2.  -3.  -6. -12.  -8.  -1.  -2.  -0.]\n",
      " [ -2.  -0.  -0.  -1.   4.  -0.  -0.  -1.]]\n"
     ]
    }
   ],
   "source": [
    "BI8 = RowAdd(BI7,1,2,-1)\n",
    "print(BI8)"
   ]
  },
  {
   "cell_type": "code",
   "execution_count": 11,
   "metadata": {},
   "outputs": [
    {
     "name": "stdout",
     "output_type": "stream",
     "text": [
      "[[  0.   0.   0.  -5.  -3.  -1.   0.   0.]\n",
      " [  0.   1.   0.   6.   4.   1.   0.   0.]\n",
      " [ -2.  -3.  -6. -12.  -8.  -1.  -2.  -0.]\n",
      " [ -2.  -1.  -0.  -7.   0.  -1.  -0.  -1.]]\n"
     ]
    }
   ],
   "source": [
    "BI9 = RowAdd(BI8,1,3,-1)\n",
    "print(BI9)"
   ]
  },
  {
   "cell_type": "code",
   "execution_count": 12,
   "metadata": {},
   "outputs": [
    {
     "name": "stdout",
     "output_type": "stream",
     "text": [
      "[[  6.   3.   0.  16.  -3.   2.   0.   3.]\n",
      " [  0.   1.   0.   6.   4.   1.   0.   0.]\n",
      " [ -2.  -3.  -6. -12.  -8.  -1.  -2.  -0.]\n",
      " [ -2.  -1.  -0.  -7.   0.  -1.  -0.  -1.]]\n"
     ]
    }
   ],
   "source": [
    "BI10 = RowAdd(BI9,3,0,-3)\n",
    "print(BI10)"
   ]
  },
  {
   "cell_type": "code",
   "execution_count": 13,
   "metadata": {},
   "outputs": [
    {
     "name": "stdout",
     "output_type": "stream",
     "text": [
      "[[  6.   3.   0.  16.  -3.   2.   0.   3.]\n",
      " [-10.  -4.   0. -29.   4.  -4.   0.  -5.]\n",
      " [ -2.  -3.  -6. -12.  -8.  -1.  -2.  -0.]\n",
      " [ -2.  -1.  -0.  -7.   0.  -1.  -0.  -1.]]\n"
     ]
    }
   ],
   "source": [
    "BI11 = RowAdd(BI10,3,1,5)\n",
    "print(BI11)"
   ]
  },
  {
   "cell_type": "code",
   "execution_count": 14,
   "metadata": {},
   "outputs": [
    {
     "name": "stdout",
     "output_type": "stream",
     "text": [
      "[[  6.   3.   0.  16.  -3.   2.   0.   3.]\n",
      " [-10.  -4.   0. -29.   4.  -4.   0.  -5.]\n",
      " [  2.  -1.  -6.   2.  -8.   1.  -2.   2.]\n",
      " [ -2.  -1.  -0.  -7.   0.  -1.  -0.  -1.]]\n"
     ]
    }
   ],
   "source": [
    "BI12 = RowAdd(BI11,3,2,-2)\n",
    "print(BI12)"
   ]
  },
  {
   "cell_type": "code",
   "execution_count": 15,
   "metadata": {},
   "outputs": [
    {
     "name": "stdout",
     "output_type": "stream",
     "text": [
      "[[  6.           3.           0.          16.          -3.\n",
      "    2.           0.           3.        ]\n",
      " [-10.          -4.           0.         -29.           4.\n",
      "   -4.           0.          -5.        ]\n",
      " [ -0.18181818   0.09090909   0.54545455  -0.18181818   0.72727273\n",
      "   -0.09090909   0.18181818  -0.18181818]\n",
      " [ -2.          -1.          -0.          -7.           0.\n",
      "   -1.          -0.          -1.        ]]\n"
     ]
    }
   ],
   "source": [
    "BI13 = RowScale(BI12,2,-1/11)\n",
    "print(BI13)"
   ]
  },
  {
   "cell_type": "code",
   "execution_count": 16,
   "metadata": {},
   "outputs": [
    {
     "name": "stdout",
     "output_type": "stream",
     "text": [
      "[[  0.90909091   5.54545455  15.27272727  10.90909091  17.36363636\n",
      "   -0.54545455   5.09090909  -2.09090909]\n",
      " [-10.          -4.           0.         -29.           4.\n",
      "   -4.           0.          -5.        ]\n",
      " [ -0.18181818   0.09090909   0.54545455  -0.18181818   0.72727273\n",
      "   -0.09090909   0.18181818  -0.18181818]\n",
      " [ -2.          -1.          -0.          -7.           0.\n",
      "   -1.          -0.          -1.        ]]\n"
     ]
    }
   ],
   "source": [
    "BI14 =  RowAdd(BI13,2,0,28)\n",
    "print(BI14)"
   ]
  },
  {
   "cell_type": "code",
   "execution_count": 17,
   "metadata": {},
   "outputs": [
    {
     "name": "stdout",
     "output_type": "stream",
     "text": [
      "[[  0.90909091   5.54545455  15.27272727  10.90909091  17.36363636\n",
      "   -0.54545455   5.09090909  -2.09090909]\n",
      " [ -1.09090909  -8.45454545 -26.72727273 -20.09090909 -31.63636364\n",
      "    0.45454545  -8.90909091   3.90909091]\n",
      " [ -0.18181818   0.09090909   0.54545455  -0.18181818   0.72727273\n",
      "   -0.09090909   0.18181818  -0.18181818]\n",
      " [ -2.          -1.          -0.          -7.           0.\n",
      "   -1.          -0.          -1.        ]]\n"
     ]
    }
   ],
   "source": [
    "BI15 = RowAdd(BI14,2,1,-49)\n",
    "print(BI15)"
   ]
  },
  {
   "cell_type": "code",
   "execution_count": 18,
   "metadata": {},
   "outputs": [
    {
     "name": "stdout",
     "output_type": "stream",
     "text": [
      "[[  0.90909091   5.54545455  15.27272727  10.90909091  17.36363636\n",
      "   -0.54545455   5.09090909  -2.09090909]\n",
      " [ -1.09090909  -8.45454545 -26.72727273 -20.09090909 -31.63636364\n",
      "    0.45454545  -8.90909091   3.90909091]\n",
      " [ -0.18181818   0.09090909   0.54545455  -0.18181818   0.72727273\n",
      "   -0.09090909   0.18181818  -0.18181818]\n",
      " [ -0.36363636  -1.81818182  -4.90909091  -5.36363636  -6.54545455\n",
      "   -0.18181818  -1.63636364   0.63636364]]\n"
     ]
    }
   ],
   "source": [
    "BI16 = RowAdd(BI15,2,3,-9)\n",
    "print(BI16)"
   ]
  },
  {
   "cell_type": "code",
   "execution_count": 19,
   "metadata": {},
   "outputs": [
    {
     "name": "stdout",
     "output_type": "stream",
     "text": [
      "[[  0.90909091   5.54545455  15.27272727  10.90909091  17.36363636\n",
      "   -0.54545455   5.09090909  -2.09090909]\n",
      " [ -1.09090909  -8.45454545 -26.72727273 -20.09090909 -31.63636364\n",
      "    0.45454545  -8.90909091   3.90909091]\n",
      " [ -0.18181818   0.09090909   0.54545455  -0.18181818   0.72727273\n",
      "   -0.09090909   0.18181818  -0.18181818]\n",
      " [  0.36363636   1.81818182   4.90909091   5.36363636   6.54545455\n",
      "    0.18181818   1.63636364  -0.63636364]]\n"
     ]
    }
   ],
   "source": [
    "BI17 = RowScale(BI16,3,-1)\n",
    "print(BI17)"
   ]
  },
  {
   "cell_type": "code",
   "execution_count": 20,
   "metadata": {},
   "outputs": [
    {
     "name": "stdout",
     "output_type": "stream",
     "text": [
      "[[  0.36363636   1.81818182   4.90909091   5.36363636   6.54545455\n",
      "    0.18181818   1.63636364  -0.63636364]\n",
      " [ -1.09090909  -8.45454545 -26.72727273 -20.09090909 -31.63636364\n",
      "    0.45454545  -8.90909091   3.90909091]\n",
      " [ -0.18181818   0.09090909   0.54545455  -0.18181818   0.72727273\n",
      "   -0.09090909   0.18181818  -0.18181818]\n",
      " [  0.90909091   5.54545455  15.27272727  10.90909091  17.36363636\n",
      "   -0.54545455   5.09090909  -2.09090909]]\n"
     ]
    }
   ],
   "source": [
    "BI18 = RowSwap(BI17,3,0)\n",
    "print(BI18)"
   ]
  },
  {
   "cell_type": "code",
   "execution_count": 21,
   "metadata": {},
   "outputs": [
    {
     "name": "stdout",
     "output_type": "stream",
     "text": [
      "[[  0.36363636   1.81818182   4.90909091   5.36363636   6.54545455\n",
      "    0.18181818   1.63636364  -0.63636364]\n",
      " [  0.90909091   5.54545455  15.27272727  10.90909091  17.36363636\n",
      "   -0.54545455   5.09090909  -2.09090909]\n",
      " [ -0.18181818   0.09090909   0.54545455  -0.18181818   0.72727273\n",
      "   -0.09090909   0.18181818  -0.18181818]\n",
      " [ -1.09090909  -8.45454545 -26.72727273 -20.09090909 -31.63636364\n",
      "    0.45454545  -8.90909091   3.90909091]]\n"
     ]
    }
   ],
   "source": [
    "BI19 = RowSwap(BI18,3,1)\n",
    "print(BI19)"
   ]
  },
  {
   "cell_type": "code",
   "execution_count": 22,
   "metadata": {},
   "outputs": [
    {
     "name": "stdout",
     "output_type": "stream",
     "text": [
      "[[  0.36363636   1.81818182   4.90909091   5.36363636   6.54545455\n",
      "    0.18181818   1.63636364  -0.63636364]\n",
      " [  0.90909091   5.54545455  15.27272727  10.90909091  17.36363636\n",
      "   -0.54545455   5.09090909  -2.09090909]\n",
      " [ -1.09090909  -8.45454545 -26.72727273 -20.09090909 -31.63636364\n",
      "    0.45454545  -8.90909091   3.90909091]\n",
      " [ -0.18181818   0.09090909   0.54545455  -0.18181818   0.72727273\n",
      "   -0.09090909   0.18181818  -0.18181818]]\n"
     ]
    }
   ],
   "source": [
    "BI20 = RowSwap(BI19,2,3)\n",
    "print(BI20)"
   ]
  },
  {
   "cell_type": "code",
   "execution_count": 23,
   "metadata": {},
   "outputs": [
    {
     "name": "stdout",
     "output_type": "stream",
     "text": [
      "[[-2.3        -0.1         0.          0.5       ]\n",
      " [ 0.4        -0.2        -0.         -0.        ]\n",
      " [ 0.7        -0.1         0.33333333 -0.16666667]\n",
      " [ 0.6         0.2         0.          0.        ]]\n"
     ]
    }
   ],
   "source": [
    "B = np.array([[0,1,0,1],[0,-3,0,2],[1,-1,3,1],[2,4,0,5]])\n",
    "BS = np.linalg.inv(B)\n",
    "print(BS)"
   ]
  },
  {
   "cell_type": "markdown",
   "metadata": {},
   "source": [
    "Setelah ketemu invers matriksnya kita operasikan untuk menemukan X dengan mengalikan matriks A-1\n",
    " dengan matriks B\n",
    "\n",
    "$$\n",
    "\\begin{align} \\begin{bmatrix} 1&0&0&0\\\\ 0&1&0&0\\\\ 0&0&1&0\\\\ 0&0&0&1\\\\  \\end{bmatrix} \\begin{bmatrix} x_1\\\\ x_2\\\\ x_3\\\\ x_4\\\\ \\end{bmatrix}  - \\end{align}\n",
    "$$\n",
    "\n",
    "$$\n",
    "\\begin{align} \\begin{bmatrix} 0.45454545&-0.18181818&0.81818182&-0.63636364 \\\\ -0.36363636&0.54545455&2.54545455&-2.09090909 \\\\-0.36363636&-0.45454545&-4.45454545&3.90909091 \\\\ 0.27272727&0.09090909&0.09090909&-0.18181818\\\\  \\end{bmatrix} \\begin{bmatrix} 6\\\\ 10\\\\ 11\\\\ 14\\\\ \\end{bmatrix} \\end{align}\n",
    "$$\n",
    "\n",
    "Setelah itu kita operasikan menggunakan fungsi NumPy pada Python"
   ]
  },
  {
   "cell_type": "code",
   "execution_count": 24,
   "metadata": {},
   "outputs": [
    {
     "name": "stdout",
     "output_type": "stream",
     "text": [
      "[[-7.8       ]\n",
      " [ 0.4       ]\n",
      " [ 4.53333333]\n",
      " [ 5.6       ]]\n"
     ]
    }
   ],
   "source": [
    "B = np.array ([[6,10,11,14]])\n",
    "BT = B.transpose()\n",
    "X = np.dot(BS,BT)\n",
    "print(X)"
   ]
  },
  {
   "cell_type": "markdown",
   "metadata": {},
   "source": [
    "Dari operasi diatas bisa kita dapatkan nilai dari X1,X2,X3,X4\n",
    "\n",
    "$$\n",
    "x_1 = 1x_2 = 2x_3 = -1x_4 = 1\n",
    "$$"
   ]
  },
  {
   "cell_type": "markdown",
   "metadata": {},
   "source": [
    "References:\n",
    "* [https://kumparan.com/berita-terkini/contoh-soal-eliminasi-gauss-lengkap-dengan-pembahasannya-1ynbQVj8e5w]\n",
    "* [https://yuliantidewi2018.blogspot.com/2018/04/eliminasi-gauss.html]\n"
   ]
  }
 ],
 "metadata": {
  "kernelspec": {
   "display_name": "Python 3 (ipykernel)",
   "language": "python",
   "name": "python3"
  },
  "language_info": {
   "codemirror_mode": {
    "name": "ipython",
    "version": 3
   },
   "file_extension": ".py",
   "mimetype": "text/x-python",
   "name": "python",
   "nbconvert_exporter": "python",
   "pygments_lexer": "ipython3",
   "version": "3.10.13"
  }
 },
 "nbformat": 4,
 "nbformat_minor": 2
}

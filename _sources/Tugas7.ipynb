{
 "cells": [
  {
   "cell_type": "markdown",
   "metadata": {},
   "source": [
    "# TRANSFORMASI LINIER\n",
    "\n",
    "## Pengertian :\n",
    "\n",
    "Transformasi adalah pemetaan T dari ruang vektor V ke ruang vektor W.\n",
    "\n",
    "Cara menentukan tranformasi linier :\n",
    "- pusat titik tidak berubah\n",
    "- garis lurus ditetapkan sebagai lurus\n",
    "\n",
    "## Secara umum pemetaan adalah transformasi Linier jika\n",
    "\n"
   ]
  }
 ],
 "metadata": {
  "language_info": {
   "name": "python"
  }
 },
 "nbformat": 4,
 "nbformat_minor": 2
}

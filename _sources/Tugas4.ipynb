{
 "cells": [
  {
   "cell_type": "markdown",
   "metadata": {},
   "source": [
    "# DETERMINAN\n",
    "\n",
    "Asumsikan A adalah suatu matriks bujur sangkar, fungsi\n",
    "determinan, det(A) adalah jumlah semua hasil kali dasar\n",
    "bertanda dari A. atau Determinan ordo n ialah suatu skalar yang terkait dengan\n",
    "sebuah matriks bujur sangkar A yang berordo n.\n",
    "\n",
    "## MINOR & KOFAKTOR DETERMINAN\n",
    "\n",
    "- Jika A adalah suatu matriks bujur sangkar, maka Minor\n",
    "elemen aij (Mij) didefinisikan sebagai determinan submatriks yang masih tersisa setelah baris ke-i dan kolomke-j dihilangkan\n",
    "- Kofaktor elemen aij dinyatakan sebagai $k_{ij} = (-1)^{i+j} M_{ij}$\n",
    "\n",
    "## SIFAT-SIFAT DETERMINAN\n",
    "\n",
    "- det(A) = 0 jika dalam suatu baris/kolom semua elemennya\n",
    "nol\n",
    "- det(A) = det(AT)\n",
    "- Nilai determinan menjadi k kali bila dalam satu\n",
    "baris/kolom dikalikan dengan k (suatu skala).\n",
    "- det(A) = 0 jika 2 baris/kolom sebanding.\n",
    "-  Nilai determinan berubah tanda jika dua baris/kolomditukar tempatnya\n",
    "- Nilai determinan tidak berubah jika baris/kolom ke – i\n",
    "ditambah k kali baris/kolom ke – j.\n",
    "- Elemen sebuah baris/kolom memuat 2 buah suku maka\n",
    "determinan tersebut dapat ditulis sebagai jumlah\n",
    "determinan."
   ]
  },
  {
   "cell_type": "markdown",
   "metadata": {},
   "source": [
    "## Contoh\n",
    "\n",
    "Buat 2 matriks dengan nama A = 2x2 dan B = 3x3"
   ]
  },
  {
   "cell_type": "code",
   "execution_count": 1,
   "metadata": {},
   "outputs": [],
   "source": [
    "# import library numpy\n",
    "import numpy as np\n",
    "\n",
    "def RowSwap(A,k,l):\n",
    "# =============================================================================\n",
    "#     A adalah sebuah NumPy array.  RowSwap akan menghasilkan duplicate dari\n",
    "#     array dengan baris k dan l di tukar\n",
    "# =============================================================================\n",
    "    m = A.shape[0]  # m adalah nomor baris di A\n",
    "    n = A.shape[1]  # n adalah nomor kolom di A\n",
    "\n",
    "    B = np.copy(A).astype('float64')\n",
    "\n",
    "    for j in range(n):\n",
    "        temp = B[k][j]\n",
    "        B[k][j] = B[l][j]\n",
    "        B[l][j] = temp\n",
    "\n",
    "    return B\n",
    "\n",
    "def RowScale(A,k,scale):\n",
    "# =============================================================================\n",
    "#     A adalah sebuah NumPy array.  RowScale akan menghasilkan duplicate dari\n",
    "#     array dengan baris k di kali dengan skalar bukan 0\n",
    "# =============================================================================\n",
    "    m = A.shape[0]  # m adalah nomor baris di A\n",
    "    n = A.shape[1]  # n adalah nomor kolom di A\n",
    "\n",
    "    B = np.copy(A).astype('float64')\n",
    "\n",
    "    for j in range(n):\n",
    "        B[k][j] *= scale\n",
    "\n",
    "    return B\n",
    "\n",
    "def RowAdd(A,k,l,scale):\n",
    "# =============================================================================\n",
    "#     A adalah sebuah NumPy array.  RowAdd akan menghasilkan duplicate dari\n",
    "#     array dengan baris k akan di kali dengan 'scale' bukan 0. lalu nilai\n",
    "#     baris l akan di tambah dengan nilai baris k yang sudah dikalikan\n",
    "# =============================================================================\n",
    "    m = A.shape[0]  # m adalah nomor baris di A\n",
    "    n = A.shape[1]  # n adalah nomor kolom di A\n",
    "\n",
    "    B = np.copy(A).astype('float64')\n",
    "\n",
    "    for j in range(n):\n",
    "        B[l][j] += B[k][j]*scale\n",
    "\n",
    "    return B"
   ]
  },
  {
   "cell_type": "code",
   "execution_count": 2,
   "metadata": {},
   "outputs": [
    {
     "name": "stdout",
     "output_type": "stream",
     "text": [
      "[[2 3]\n",
      " [3 1]]\n",
      "[[2 1 3]\n",
      " [1 1 3]\n",
      " [3 2 2]]\n",
      "[[1 0]\n",
      " [0 1]]\n",
      "[[1 0 0]\n",
      " [0 1 0]\n",
      " [0 0 1]]\n"
     ]
    }
   ],
   "source": [
    "A = np.array([[2,3],[3,1]])\n",
    "B = np.array([[2,1,3],[1,1,3],[3,2,2]])\n",
    "C = np.array([[1,0],[0,1]])\n",
    "D = np.array([[1,0,0],[0,1,0],[0,0,1]])\n",
    "\n",
    "print(A)\n",
    "print(B)\n",
    "print(C)\n",
    "print(D)"
   ]
  },
  {
   "cell_type": "markdown",
   "metadata": {},
   "source": [
    "Determinan dari sebuah matriks identitas ="
   ]
  },
  {
   "cell_type": "code",
   "execution_count": 3,
   "metadata": {},
   "outputs": [
    {
     "name": "stdout",
     "output_type": "stream",
     "text": [
      "1.0\n",
      "1.0\n",
      "-7.000000000000001\n",
      "-4.0\n"
     ]
    }
   ],
   "source": [
    "E = np.linalg.det(C)\n",
    "F = np.linalg.det(D)\n",
    "a = np.linalg.det(A)\n",
    "b = np.linalg.det(B)\n",
    "\n",
    "print(E)\n",
    "print(F)\n",
    "print(a)\n",
    "print(b)"
   ]
  },
  {
   "cell_type": "code",
   "execution_count": 4,
   "metadata": {},
   "outputs": [
    {
     "name": "stdout",
     "output_type": "stream",
     "text": [
      "25.0\n"
     ]
    }
   ],
   "source": [
    "c = a * (1/2*a)\n",
    "print(c.round())"
   ]
  },
  {
   "cell_type": "markdown",
   "metadata": {},
   "source": [
    "mencari invers matriks A"
   ]
  },
  {
   "cell_type": "code",
   "execution_count": 5,
   "metadata": {},
   "outputs": [
    {
     "name": "stdout",
     "output_type": "stream",
     "text": [
      "[[-0.14285714  0.42857143]\n",
      " [ 0.42857143 -0.28571429]]\n",
      "[[ 1.   -1.    0.  ]\n",
      " [-1.75  1.25  0.75]\n",
      " [ 0.25  0.25 -0.25]]\n"
     ]
    }
   ],
   "source": [
    "G = np.linalg.inv(A)\n",
    "H = np.linalg.inv(B)\n",
    "\n",
    "print(G)\n",
    "print(H)"
   ]
  },
  {
   "cell_type": "markdown",
   "metadata": {},
   "source": [
    "determinan i = det a . det a invers"
   ]
  },
  {
   "cell_type": "code",
   "execution_count": 6,
   "metadata": {},
   "outputs": [
    {
     "name": "stdout",
     "output_type": "stream",
     "text": [
      "-0.1428571428571428\n",
      "-0.24999999999999994\n"
     ]
    }
   ],
   "source": [
    "I = np.linalg.det(G)\n",
    "J = np.linalg.det(H)\n",
    "\n",
    "print(I)\n",
    "print(J)"
   ]
  },
  {
   "cell_type": "markdown",
   "metadata": {},
   "source": [
    "- Sifat yang kedua misalkan ab\n",
    "- det ab = det a . det b\n",
    "- i = a. a invers\n",
    "- det i = det a . det a invers\n",
    "- det a invers = 1/ det a"
   ]
  },
  {
   "cell_type": "code",
   "execution_count": 7,
   "metadata": {},
   "outputs": [
    {
     "name": "stdout",
     "output_type": "stream",
     "text": [
      "[[3 5 1]\n",
      " [2 6 2]\n",
      " [1 3 1]]\n",
      "[[1 1 2]\n",
      " [1 1 3]\n",
      " [2 1 2]]\n"
     ]
    }
   ],
   "source": [
    "e = np.array([[3,5,1],[2,6,2],[1,3,1]])\n",
    "f = np.array([[1,1,2],[1,1,3],[2,1,2]])\n",
    "\n",
    "print(e)\n",
    "print(f)"
   ]
  },
  {
   "cell_type": "code",
   "execution_count": 8,
   "metadata": {},
   "outputs": [
    {
     "name": "stdout",
     "output_type": "stream",
     "text": [
      "[[1 4 2]\n",
      " [1 1 1]\n",
      " [3 2 1]]\n"
     ]
    }
   ],
   "source": [
    "A = np.array([[1,4,2],[1,1,1],[3,2,1]])\n",
    "\n",
    "print(A)"
   ]
  },
  {
   "cell_type": "code",
   "execution_count": 9,
   "metadata": {},
   "outputs": [
    {
     "name": "stdout",
     "output_type": "stream",
     "text": [
      "5.0\n"
     ]
    }
   ],
   "source": [
    "a = np.linalg.det(A)\n",
    "\n",
    "print(a.round())"
   ]
  },
  {
   "cell_type": "markdown",
   "metadata": {},
   "source": [
    "merubah baris darisebuah matriks akan merubah sebuah tanda dari determinan"
   ]
  },
  {
   "cell_type": "code",
   "execution_count": 10,
   "metadata": {},
   "outputs": [
    {
     "name": "stdout",
     "output_type": "stream",
     "text": [
      "[[1 1 1]\n",
      " [1 4 2]\n",
      " [3 2 1]]\n"
     ]
    }
   ],
   "source": [
    "A1 = np.array([[1,1,1],[1,4,2],[3,2,1]])\n",
    "\n",
    "print(A1)"
   ]
  },
  {
   "cell_type": "code",
   "execution_count": 11,
   "metadata": {},
   "outputs": [
    {
     "name": "stdout",
     "output_type": "stream",
     "text": [
      "-5.0\n"
     ]
    }
   ],
   "source": [
    "a = np.linalg.det(A1)\n",
    "\n",
    "print(a.round())"
   ]
  },
  {
   "cell_type": "markdown",
   "metadata": {},
   "source": [
    "merubah kolom pada matriks"
   ]
  },
  {
   "cell_type": "code",
   "execution_count": 12,
   "metadata": {},
   "outputs": [
    {
     "name": "stdout",
     "output_type": "stream",
     "text": [
      "[[4 1 2]\n",
      " [1 1 1]\n",
      " [2 3 1]]\n"
     ]
    }
   ],
   "source": [
    "A = np.array([[4,1,2],[1,1,1],[2,3,1]])\n",
    "\n",
    "print(A)"
   ]
  },
  {
   "cell_type": "code",
   "execution_count": 13,
   "metadata": {},
   "outputs": [
    {
     "name": "stdout",
     "output_type": "stream",
     "text": [
      "-5.0\n"
     ]
    }
   ],
   "source": [
    "a = np.linalg.det(A)\n",
    "\n",
    "print(a.round())"
   ]
  },
  {
   "cell_type": "markdown",
   "metadata": {},
   "source": [
    "Penjelasan :\n",
    "\n",
    "- jika baris dari matrik merupakan kelipatan dari baris yang lain maka nilai matriks determinan yang ada sama dengan 0\n",
    "- kelipatan baris matriknya adalah 2 kali matriks awal"
   ]
  },
  {
   "cell_type": "code",
   "execution_count": 14,
   "metadata": {},
   "outputs": [
    {
     "name": "stdout",
     "output_type": "stream",
     "text": [
      "[[1 4 2]\n",
      " [2 8 4]\n",
      " [3 2 1]]\n"
     ]
    }
   ],
   "source": [
    "A = np.array([[1,4,2],[2,8,4],[3,2,1]])\n",
    "\n",
    "print(A)"
   ]
  },
  {
   "cell_type": "code",
   "execution_count": 15,
   "metadata": {},
   "outputs": [
    {
     "name": "stdout",
     "output_type": "stream",
     "text": [
      "0.0\n"
     ]
    }
   ],
   "source": [
    "a = np.linalg.det(A)\n",
    "\n",
    "print(a.round())"
   ]
  },
  {
   "cell_type": "markdown",
   "metadata": {},
   "source": [
    "Penjelasan :\n",
    "\n",
    "- jika kolom dari sebuah matriks adalah kelipatan dari kolom yang lainnya maka determinan matriks yang dicari adalah 0\n",
    "- kolom kedua adalah kelipatan dari kolom pertama atau kolom yang lain"
   ]
  },
  {
   "cell_type": "code",
   "execution_count": 16,
   "metadata": {},
   "outputs": [
    {
     "name": "stdout",
     "output_type": "stream",
     "text": [
      "[[1 4 2]\n",
      " [2 8 3]\n",
      " [1 4 1]]\n"
     ]
    }
   ],
   "source": [
    "B = np.array([[1,4,2],[2,8,3],[1,4,1]])\n",
    "\n",
    "print(B)"
   ]
  },
  {
   "cell_type": "code",
   "execution_count": 17,
   "metadata": {},
   "outputs": [
    {
     "name": "stdout",
     "output_type": "stream",
     "text": [
      "0.0\n"
     ]
    }
   ],
   "source": [
    "b = np.linalg.det(B)\n",
    "\n",
    "print(b.round())"
   ]
  },
  {
   "cell_type": "markdown",
   "metadata": {},
   "source": [
    "- k = skala\n",
    "- A = matriks nxn\n",
    "- det k.A = K pangkat n dikali det A"
   ]
  },
  {
   "cell_type": "code",
   "execution_count": 18,
   "metadata": {},
   "outputs": [
    {
     "name": "stdout",
     "output_type": "stream",
     "text": [
      "[[1 4 2]\n",
      " [1 1 1]\n",
      " [3 2 1]]\n"
     ]
    }
   ],
   "source": [
    "A = np.array([[1,4,2],[1,1,1],[3,2,1]])\n",
    "\n",
    "print(A)"
   ]
  },
  {
   "cell_type": "code",
   "execution_count": 19,
   "metadata": {},
   "outputs": [
    {
     "name": "stdout",
     "output_type": "stream",
     "text": [
      "5.0\n"
     ]
    }
   ],
   "source": [
    "a = np.linalg.det(A)\n",
    "\n",
    "print(a.round())"
   ]
  },
  {
   "cell_type": "code",
   "execution_count": 20,
   "metadata": {},
   "outputs": [
    {
     "name": "stdout",
     "output_type": "stream",
     "text": [
      "[[2 8 4]\n",
      " [2 2 2]\n",
      " [6 4 2]]\n"
     ]
    }
   ],
   "source": [
    "KA = np.array([[2,8,4],[2,2,2],[6,4,2]])\n",
    "\n",
    "print(KA)"
   ]
  },
  {
   "cell_type": "markdown",
   "metadata": {},
   "source": [
    "det (KA) = 2 pangkat 3 . 5 = 40"
   ]
  },
  {
   "cell_type": "code",
   "execution_count": 21,
   "metadata": {},
   "outputs": [
    {
     "name": "stdout",
     "output_type": "stream",
     "text": [
      "40.0\n"
     ]
    }
   ],
   "source": [
    "b = np.linalg.det(KA)\n",
    "\n",
    "print(b.round())"
   ]
  },
  {
   "cell_type": "code",
   "execution_count": 22,
   "metadata": {},
   "outputs": [
    {
     "name": "stdout",
     "output_type": "stream",
     "text": [
      "[[2 8 4]\n",
      " [1 1 1]\n",
      " [3 2 1]]\n"
     ]
    }
   ],
   "source": [
    "B = np.array([[2,8,4],[1,1,1],[3,2,1]])\n",
    "\n",
    "print(B)"
   ]
  },
  {
   "cell_type": "markdown",
   "metadata": {},
   "source": [
    "- = 2*Det A\n",
    "\n",
    "- maka dengan t adalah skala\n",
    "- maka det(b) = t kali dengan Det (A)"
   ]
  },
  {
   "cell_type": "code",
   "execution_count": 23,
   "metadata": {},
   "outputs": [
    {
     "name": "stdout",
     "output_type": "stream",
     "text": [
      "10.0\n"
     ]
    }
   ],
   "source": [
    "b = np.linalg.det(B)\n",
    "\n",
    "print(b.round())"
   ]
  },
  {
   "cell_type": "markdown",
   "metadata": {},
   "source": [
    "- Matriks segitiga atas\n",
    "dimana d bawah diagonal elemennya nol\n",
    "-  matriks segitiga bawah\n",
    "dimana diatas diagonal elemennya nol\n",
    "- det matrik segitiga adalah\n",
    "det A = d1 kali d2 sampai dn\n",
    "- perkalian pada setiap elemen diagonal matriksnya"
   ]
  },
  {
   "cell_type": "code",
   "execution_count": 24,
   "metadata": {},
   "outputs": [
    {
     "name": "stdout",
     "output_type": "stream",
     "text": [
      "[[2 3 1 2]\n",
      " [0 1 2 1]\n",
      " [0 0 5 2]\n",
      " [0 0 0 3]]\n"
     ]
    }
   ],
   "source": [
    "A = np.array([[2,3,1,2],[0,1,2,1],[0,0,5,2],[0,0,0,3]])\n",
    "\n",
    "print(A)"
   ]
  },
  {
   "cell_type": "markdown",
   "metadata": {},
   "source": [
    "det (A) = 2.1.5.3 = 30"
   ]
  },
  {
   "cell_type": "code",
   "execution_count": 25,
   "metadata": {},
   "outputs": [
    {
     "name": "stdout",
     "output_type": "stream",
     "text": [
      "30.0\n"
     ]
    }
   ],
   "source": [
    "a = np.linalg.det(A)\n",
    "\n",
    "print(a.round())"
   ]
  },
  {
   "cell_type": "markdown",
   "metadata": {},
   "source": [
    "Merubah nilai baris tidak merubah nilai determinan dari suatu matriks"
   ]
  },
  {
   "cell_type": "code",
   "execution_count": 26,
   "metadata": {},
   "outputs": [
    {
     "name": "stdout",
     "output_type": "stream",
     "text": [
      "[[1 4 2]\n",
      " [1 1 1]\n",
      " [3 2 1]]\n"
     ]
    }
   ],
   "source": [
    "A = np.array([[1,4,2],[1,1,1],[3,2,1]])\n",
    "\n",
    "print(A)"
   ]
  },
  {
   "cell_type": "code",
   "execution_count": 27,
   "metadata": {},
   "outputs": [
    {
     "name": "stdout",
     "output_type": "stream",
     "text": [
      "5.0\n"
     ]
    }
   ],
   "source": [
    "a = np.linalg.det(A)\n",
    "\n",
    "print(a.round())"
   ]
  },
  {
   "cell_type": "code",
   "execution_count": 28,
   "metadata": {},
   "outputs": [
    {
     "name": "stdout",
     "output_type": "stream",
     "text": [
      "[[ 1  4  2]\n",
      " [ 0 -3 -1]\n",
      " [ 3  2  1]]\n"
     ]
    }
   ],
   "source": [
    "B = np.array([[1,4,2],[0,-3,-1],[3,2,1]])\n",
    "\n",
    "print(B)"
   ]
  },
  {
   "cell_type": "code",
   "execution_count": 29,
   "metadata": {},
   "outputs": [
    {
     "name": "stdout",
     "output_type": "stream",
     "text": [
      "5.0\n"
     ]
    }
   ],
   "source": [
    "b = np.linalg.det(B)\n",
    "\n",
    "print(b.round())"
   ]
  },
  {
   "cell_type": "markdown",
   "metadata": {},
   "source": [
    "det A transpose = det A"
   ]
  },
  {
   "cell_type": "code",
   "execution_count": 30,
   "metadata": {},
   "outputs": [
    {
     "name": "stdout",
     "output_type": "stream",
     "text": [
      "[[1 4 2]\n",
      " [1 1 1]\n",
      " [3 2 1]]\n"
     ]
    }
   ],
   "source": [
    "A = np.array([[1,4,2],[1,1,1],[3,2,1]])\n",
    "\n",
    "print(A)"
   ]
  },
  {
   "cell_type": "code",
   "execution_count": 31,
   "metadata": {},
   "outputs": [
    {
     "name": "stdout",
     "output_type": "stream",
     "text": [
      "[[1 1 3]\n",
      " [4 1 2]\n",
      " [2 1 1]]\n"
     ]
    }
   ],
   "source": [
    "A1 = np.transpose(A)\n",
    "\n",
    "print(A1)"
   ]
  },
  {
   "cell_type": "code",
   "execution_count": 32,
   "metadata": {},
   "outputs": [
    {
     "name": "stdout",
     "output_type": "stream",
     "text": [
      "5.0\n"
     ]
    }
   ],
   "source": [
    "a = np.linalg.det(A1)\n",
    "\n",
    "print(a.round())"
   ]
  },
  {
   "cell_type": "markdown",
   "metadata": {},
   "source": [
    "## EKSPANSI KOFAKTOR\n",
    "adalah salah satu metode mencari determinan suatu matriks, di mana dalam metode ini memanfaatkan kofaktor. Pencarian determinan menggunakan metode ini tidak terbatas dengan satu ukuran matriks. Dengan kata lain, dapat dihitung matriks 3x3, 4x4, 5x5, dan seterusnya."
   ]
  },
  {
   "cell_type": "code",
   "execution_count": 33,
   "metadata": {},
   "outputs": [
    {
     "name": "stdout",
     "output_type": "stream",
     "text": [
      "[[3 1 2 4]\n",
      " [2 1 1 1]\n",
      " [3 4 2 1]\n",
      " [3 2 1 3]]\n"
     ]
    }
   ],
   "source": [
    "a = np.array([[3,1,2,4],[2,1,1,1],[3,4,2,1],[3,2,1,3]])\n",
    "\n",
    "print(a)"
   ]
  },
  {
   "cell_type": "code",
   "execution_count": 34,
   "metadata": {},
   "outputs": [
    {
     "name": "stdout",
     "output_type": "stream",
     "text": [
      "12.0\n"
     ]
    }
   ],
   "source": [
    "b = np.linalg.det(a)\n",
    "\n",
    "print(b.round())"
   ]
  },
  {
   "cell_type": "markdown",
   "metadata": {},
   "source": [
    "## CONTOH PENYELESAIAN MATRIKS DETERMINAN DENGAN METODE EKSPANSI KONFAKTOR\n",
    "\n",
    "Menggunakan Matriks 4X4 sebagai berikut :\n",
    "\n",
    "$ A = \\begin{pmatrix}\n",
    "3 & 1 & 2 & 4 \\\\\n",
    "2 & 1 & 1 & 1 \\\\\n",
    "3 & 4 & 1 & 1 \\\\\n",
    "3 & 2 & 1 & 3 \\\\\n",
    "\\end{pmatrix} $\n",
    "\n",
    "**Rumus Penurunan Kofaktor dengan cara menangani ekspansi kofaktor 3×3 . Kita ambil submatriks kedua di atas dan dilambangkan dengan M :**\n",
    "- A21 C21 = $(-1)^{2+1}(det M21)$\n",
    "- A22 C22 = $(-1)^{2+2}(det M22)$\n",
    "- A23 C23 = $(-1)^{2+3}(det M23)$\n",
    "- A24 C24 = $(-1)^{2+4}(det M24)$\n",
    "\n",
    "Dimana :\n",
    "\n",
    "$ M21 = \\begin{pmatrix}\n",
    "1 & 2 & 4 \\\\\n",
    "4 & 2 & 1 \\\\\n",
    "2 & 1 & 3 \\\\\n",
    "\\end{pmatrix}\n",
    "M22 = \\begin{pmatrix}\n",
    "3 & 2 & 4 \\\\\n",
    "3 & 2 & 1 \\\\\n",
    "3 & 1 & 3 \\\\\n",
    "\\end{pmatrix} $\n",
    "\n",
    "$M23 = \\begin{pmatrix}\n",
    "3 & 1 & 4 \\\\\n",
    "3 & 4 & 1 \\\\\n",
    "3 & 2 & 3 \\\\\n",
    "\\end{pmatrix}\n",
    "M24 = \\begin{pmatrix}\n",
    "3 & 1 & 2 \\\\\n",
    "3 & 4 & 2 \\\\\n",
    "3 & 2 & 1 \\\\\n",
    "\\end{pmatrix} $"
   ]
  },
  {
   "cell_type": "markdown",
   "metadata": {},
   "source": [
    "**Hitung menangani Setiap ekspansi Kofaktor 2X2 dari M21. Kita ambil submatriks kedua di atas dan dilambangkan dengan detM :**\n",
    "- A11 C11 = $(-1)^{1+1}(det M11)$\n",
    "- A12 C12 = $(-1)^{1+2}(det M12)$\n",
    "- A13 C13 = $(-1)^{1+3}(det M13)$\n",
    "\n",
    "Dimana Det:\n",
    "\n",
    "$ M11 = \\begin{pmatrix}\n",
    "2 & 1 \\\\\n",
    "1 & 3 \\\\\n",
    "\\end{pmatrix}\n",
    "M12 = \\begin{pmatrix}\n",
    "4 & 1 \\\\\n",
    "2 & 3 \\\\\n",
    "\\end{pmatrix}\n",
    "M13 = \\begin{pmatrix}\n",
    "4 & 2 \\\\\n",
    "2 & 1 \\\\\n",
    "\\end{pmatrix} $\n",
    "\n",
    "Oleh Karena Itu :\n",
    "- M11 = $(-1)^{1+1}((2*3)-(1*1)) = (-1)^{1+1}(6-1) = 1*1*5 = 5 $\n",
    "- M12 = $(-1)^{1+2}((4*3)-(1*2)) = (-1)^{1+2}(12-2) = -1*2*10 = -20 $\n",
    "- M13 = $(-1)^{1+3}((4*1)-(2*2)) = (-1)^{1+3}(4-4) = 1*3*0 = 0 $\n",
    "\n",
    "Akhir yang diperoleh :\n",
    "det(A) = 5 + -20 + 0 = -15"
   ]
  },
  {
   "cell_type": "markdown",
   "metadata": {},
   "source": [
    "**Hitung menangani Setiap ekspansi Kofaktor 2X2 dari M22. Kita ambil submatriks kedua di atas dan dilambangkan dengan detM :**\n",
    "- A11 C11 = $(-1)^{1+1}(det M11)$\n",
    "- A12 C12 = $(-1)^{1+2}(det M12)$\n",
    "- A13 C13 = $(-1)^{1+3}(det M13)$\n",
    "\n",
    "Dimana Det:\n",
    "\n",
    "$ M11 = \\begin{pmatrix}\n",
    "2 & 1 \\\\\n",
    "1 & 3 \\\\\n",
    "\\end{pmatrix}\n",
    "M12 = \\begin{pmatrix}\n",
    "3 & 1 \\\\\n",
    "3 & 3 \\\\\n",
    "\\end{pmatrix}\n",
    "M13 = \\begin{pmatrix}\n",
    "3 & 2 \\\\\n",
    "3 & 1 \\\\\n",
    "\\end{pmatrix} $\n",
    "\n",
    "Oleh Karena Itu :\n",
    "- M11 = $(-1)^{1+1}((2*3)-(1*1)) = (-1)^{1+1}(6-1) = 1*3*5 = 15 $\n",
    "- M12 = $(-1)^{1+2}((3*3)-(1*3)) = (-1)^{1+2}(9-3) = -1*2*6 = -12 $\n",
    "- M13 = $(-1)^{1+3}((3*1)-(3*2)) = (-1)^{1+3}(3-6) = 1*4*-3 = -12 $\n",
    "\n",
    "Akhir yang diperoleh :\n",
    "det(A) = 15 + -12 + -12 = -9"
   ]
  },
  {
   "cell_type": "markdown",
   "metadata": {},
   "source": [
    "**Hitung menangani Setiap ekspansi Kofaktor 2X2 dari M23. Kita ambil submatriks kedua di atas dan dilambangkan dengan detM :**\n",
    "- A11 C11 = $(-1)^{1+1}(det M11)$\n",
    "- A12 C12 = $(-1)^{1+2}(det M12)$\n",
    "- A13 C13 = $(-1)^{1+3}(det M13)$\n",
    "\n",
    "Dimana Det:\n",
    "\n",
    "$ M11 = \\begin{pmatrix}\n",
    "4 & 1 \\\\\n",
    "2 & 3 \\\\\n",
    "\\end{pmatrix}\n",
    "M12 = \\begin{pmatrix}\n",
    "3 & 1 \\\\\n",
    "3 & 3 \\\\\n",
    "\\end{pmatrix}\n",
    "M13 = \\begin{pmatrix}\n",
    "3 & 4 \\\\\n",
    "3 & 2 \\\\\n",
    "\\end{pmatrix} $\n",
    "\n",
    "Oleh Karena Itu :\n",
    "- M11 = $(-1)^{1+1}((4*3)-(1*2)) = (-1)^{1+1}(12-2) = 1*3*10 = 30 $\n",
    "- M12 = $(-1)^{1+2}((3*3)-(1*3)) = (-1)^{1+2}(9-3) = -1*1*6 = -6 $\n",
    "- M13 = $(-1)^{1+3}((3*2)-(4*3)) = (-1)^{1+3}(6-12) = 1*4*-6 = -24 $\n",
    "\n",
    "Akhir yang diperoleh :\n",
    "det(A) = 30 + -6 + -24 = 0"
   ]
  },
  {
   "cell_type": "markdown",
   "metadata": {},
   "source": [
    "**Hitung menangani Setiap ekspansi Kofaktor 2X2 dari M24. Kita ambil submatriks kedua di atas dan dilambangkan dengan detM :**\n",
    "- A11 C11 = $(-1)^{1+1}(det M11)$\n",
    "- A12 C12 = $(-1)^{1+2}(det M12)$\n",
    "- A13 C13 = $(-1)^{1+3}(det M13)$\n",
    "\n",
    "Dimana Det:\n",
    "\n",
    "$ M11 = \\begin{pmatrix}\n",
    "4 & 2 \\\\\n",
    "2 & 1 \\\\\n",
    "\\end{pmatrix}\n",
    "M12 = \\begin{pmatrix}\n",
    "3 & 2 \\\\\n",
    "3 & 1 \\\\\n",
    "\\end{pmatrix}\n",
    "M13 = \\begin{pmatrix}\n",
    "3 & 4 \\\\\n",
    "3 & 2 \\\\\n",
    "\\end{pmatrix} $\n",
    "\n",
    "Oleh Karena Itu :\n",
    "- M11 = $(-1)^{1+1}((4*1)-(2*2)) = (-1)^{1+1}(4-4) = 1*3*0 = 0 $\n",
    "- M12 = $(-1)^{1+2}((3*1)-(2*3)) = (-1)^{1+2}(3-6) = -1*1*-3 = 3 $\n",
    "- M13 = $(-1)^{1+3}((3*2)-(4*3)) = (-1)^{1+3}(6-12) = 1*2*-6 = -12 $\n",
    "\n",
    "Akhir yang diperoleh :\n",
    "det(A) = 0 + 3 + -12 = -9"
   ]
  },
  {
   "cell_type": "markdown",
   "metadata": {},
   "source": [
    "Oleh karena itu:\n",
    "- (-1) 2+1 * A 21 * C 2 1 = -1 * 2 * -15 = 30\n",
    "- (-1) 2+2 * A 22 * ​C 2 2 = 1 * 1 * -9 = -9\n",
    "- (-1) 2+3 * A 23 * C 2 3 = -1 * 1 * 0 = 0\n",
    "- (-1) 2+4 * A 24 * C 2 4 = 1 * 1 * -9 = -9\n",
    "\n",
    "Akhirnya, kita memperoleh:\n",
    "det(A) = 30 + -9 + 0 + -9 = 12"
   ]
  }
 ],
 "metadata": {
  "kernelspec": {
   "display_name": "Python 3 (ipykernel)",
   "language": "python",
   "name": "python3"
  },
  "language_info": {
   "codemirror_mode": {
    "name": "ipython",
    "version": 3
   },
   "file_extension": ".py",
   "mimetype": "text/x-python",
   "name": "python",
   "nbconvert_exporter": "python",
   "pygments_lexer": "ipython3",
   "version": "3.10.13"
  }
 },
 "nbformat": 4,
 "nbformat_minor": 2
}

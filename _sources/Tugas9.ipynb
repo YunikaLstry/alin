{
 "cells": [
  {
   "cell_type": "markdown",
   "metadata": {},
   "source": [
    "# EVALUASI"
   ]
  },
  {
   "cell_type": "markdown",
   "metadata": {},
   "source": [
    "![image.png](data:image/png;base64,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)"
   ]
  },
  {
   "cell_type": "markdown",
   "metadata": {},
   "source": [
    "#### Matriks $ A $ dan Vektor $ v0 $\n",
    "\n",
    "Matriks $ A $:\n",
    "\n",
    "$\n",
    "A = \\begin{bmatrix}\n",
    "0 & 0 & 1 & \\frac{1}{2} \\\\\n",
    "\\frac{1}{3} & 0 & 0 & 0 \\\\\n",
    "\\frac{1}{3} & \\frac{1}{2} & 0 & \\frac{1}{2} \\\\\n",
    "\\frac{1}{3} & \\frac{1}{2} & 0 & 0 \\\\\n",
    "\\end{bmatrix}\n",
    "$\n",
    "\n",
    "Vektor awal $ v0 $:\n",
    "\n",
    "$\n",
    "v0 = \\begin{bmatrix}\n",
    "0.25 \\\\\n",
    "0.25 \\\\\n",
    "0.25 \\\\\n",
    "0.25 \\\\\n",
    "\\end{bmatrix}\n",
    "$\n",
    "\n",
    "Toleransi = 0.01"
   ]
  },
  {
   "cell_type": "code",
   "execution_count": 1,
   "metadata": {},
   "outputs": [],
   "source": [
    "import numpy as np"
   ]
  },
  {
   "cell_type": "code",
   "execution_count": 2,
   "metadata": {},
   "outputs": [
    {
     "name": "stdout",
     "output_type": "stream",
     "text": [
      "v1 = [[0.375     ]\n",
      " [0.08333333]\n",
      " [0.33333333]\n",
      " [0.20833333]]\n",
      "iterasi ke-1 = [0.05208333]\n",
      "\n",
      "v2 = [[0.375     ]\n",
      " [0.08333333]\n",
      " [0.33333333]\n",
      " [0.20833333]]\n",
      "iterasi ke-2 = [0.01128472]\n",
      "\n",
      "v3 = [[0.4375    ]\n",
      " [0.125     ]\n",
      " [0.27083333]\n",
      " [0.16666667]]\n",
      "iterasi ke-3 = [0.00954861]\n",
      "\n",
      "urutan = [[0]\n",
      " [2]\n",
      " [3]\n",
      " [1]]\n"
     ]
    }
   ],
   "source": [
    "def perkalianMatriks(A,v0):\n",
    "  vbaru = A@v0\n",
    "  return vbaru\n",
    "\n",
    "def hitung(vbaru,vlama):\n",
    "  temp = 0\n",
    "  for i in range(len(vbaru)):\n",
    "    temp += (vbaru[i] - vlama[i])**2\n",
    "  return temp\n",
    "\n",
    "def converge(A,v0,toleransi):\n",
    "  count = 1\n",
    "  vbaru = perkalianMatriks(A,v0)\n",
    "  iterasi = hitung(vbaru,v0)\n",
    "  print(f'v{count} = {vbaru}')\n",
    "  print(f'iterasi ke-{count} = {iterasi}')\n",
    "  print()\n",
    "  while iterasi > toleransi :\n",
    "    vbaru2 = perkalianMatriks(A,vbaru)\n",
    "    iterasi = hitung(vbaru2,vbaru)\n",
    "    print(f'v{count+1} = {vbaru}')\n",
    "    print(f'iterasi ke-{count+1} = {iterasi}')\n",
    "    print()\n",
    "    vbaru = vbaru2\n",
    "    count += 1\n",
    "  return f'urutan = {pageRank(vbaru2)}'\n",
    "\n",
    "def pageRank(vbaru):\n",
    "  return np.argsort(vbaru,axis=0)[::-1]\n",
    "A = np.array([[0,0,1,1/2],[1/3,0,0,0],[1/3,1/2,0,1/2],[1/3,1/2,0,0]])\n",
    "v0 = np.array([[0.25],[0.25],[0.25],[0.25]])\n",
    "t = 0.01\n",
    "hasil = converge(A,v0,t)\n",
    "print(hasil)"
   ]
  }
 ],
 "metadata": {
  "kernelspec": {
   "display_name": "Python 3 (ipykernel)",
   "language": "python",
   "name": "python3"
  },
  "language_info": {
   "codemirror_mode": {
    "name": "ipython",
    "version": 3
   },
   "file_extension": ".py",
   "mimetype": "text/x-python",
   "name": "python",
   "nbconvert_exporter": "python",
   "pygments_lexer": "ipython3",
   "version": "3.10.13"
  }
 },
 "nbformat": 4,
 "nbformat_minor": 2
}
